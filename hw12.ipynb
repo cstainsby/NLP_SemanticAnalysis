{
 "cells": [
  {
   "cell_type": "code",
   "execution_count": 16,
   "metadata": {},
   "outputs": [
    {
     "data": {
      "text/plain": [
       "<module 'evaluation' from '/home/cstainsby/class/NLP/CPSC475/homework/hw12/evaluation.py'>"
      ]
     },
     "execution_count": 16,
     "metadata": {},
     "output_type": "execute_result"
    }
   ],
   "source": [
    "import importlib\n",
    "\n",
    "import os \n",
    "from nltk.corpus import movie_reviews\n",
    "import random \n",
    "\n",
    "import classifier\n",
    "# from classifier import train_naive_bayes\n",
    "import utils \n",
    "import evaluation\n",
    "\n",
    "importlib.reload(classifier)\n",
    "importlib.reload(evaluation)"
   ]
  },
  {
   "attachments": {},
   "cell_type": "markdown",
   "metadata": {},
   "source": [
    "## Load Data\n",
    "\n",
    "Below is a helper function to read in file and separate the words into a list"
   ]
  },
  {
   "cell_type": "code",
   "execution_count": 17,
   "metadata": {},
   "outputs": [],
   "source": [
    "def read_in_txt(fname):\n",
    "  with open(fname) as in_file:\n",
    "    in_file_str = in_file.read()\n",
    "    file_contents = in_file_str.split(\"\\n\")\n",
    "\n",
    "  return file_contents\n",
    "\n",
    "neg_words = read_in_txt(\"movie_reviews/negWords.txt\")\n",
    "pos_words = read_in_txt(\"movie_reviews/posWords.txt\")\n",
    "\n",
    "# pos_train_files = read_in_txt(\"movie_reviews/pos.txt\")\n",
    "# neg_train_files = read_in_txt(\"movie_reviews/neg.txt\")\n",
    "\n",
    "pos_test_files = read_in_txt(\"movie_reviews/posTst.txt\")\n",
    "neg_test_files = read_in_txt(\"movie_reviews/negTst.txt\")\n",
    " \n",
    "# pos_train = [movie_reviews.words(fname) for fname in pos_train_files]\n",
    "# neg_train = [movie_reviews.words(fname) for fname in neg_train_files]\n",
    "\n",
    "pos_test = [movie_reviews.words(fname) for fname in pos_test_files]\n",
    "neg_test = [movie_reviews.words(fname) for fname in neg_test_files]\n",
    "\n",
    "test_words = pos_test + neg_test"
   ]
  },
  {
   "attachments": {},
   "cell_type": "markdown",
   "metadata": {},
   "source": [
    "### Training Data"
   ]
  },
  {
   "cell_type": "code",
   "execution_count": null,
   "metadata": {},
   "outputs": [],
   "source": [
    "neg_words = read_in_txt(\"movie_reviews/negWords.txt\")\n",
    "pos_words = read_in_txt(\"movie_reviews/posWords.txt\")\n",
    "\n",
    "print(\"num negative words:\", len(neg_words))\n",
    "print(\"num positive words:\", len(pos_words))"
   ]
  },
  {
   "attachments": {},
   "cell_type": "markdown",
   "metadata": {},
   "source": [
    "### Testing Data"
   ]
  },
  {
   "cell_type": "code",
   "execution_count": 18,
   "metadata": {},
   "outputs": [],
   "source": [
    "# X_train_words = pos_train + neg_train\n",
    "# y_train = [1 for i in range(len(pos_train))] + [0 for i in range(len(neg_train))]\n",
    "\n",
    "# X_test_words = pos_test + neg_test\n",
    "# print(X_test_words[0])\n",
    "\n",
    "pos_test_files = read_in_txt(\"movie_reviews/posTst.txt\")\n",
    "neg_test_files = read_in_txt(\"movie_reviews/negTst.txt\")\n",
    "\n",
    "pos_test = [movie_reviews.words(fname) for fname in pos_test_files]\n",
    "neg_test = [movie_reviews.words(fname) for fname in neg_test_files]\n",
    "\n",
    "test_words = pos_test + neg_test\n",
    "\n",
    "y_test = [1 for i in range(len(pos_test))] + [0 for i in range(len(neg_test))]"
   ]
  },
  {
   "cell_type": "code",
   "execution_count": 19,
   "metadata": {},
   "outputs": [],
   "source": [
    "# X_train = []\n",
    "# X_test = []\n",
    "\n",
    "# sent_dict = {}\n",
    "\n",
    "# neg_words = read_in_txt(\"movie_reviews/negWords.txt\")\n",
    "# for word in neg_words:\n",
    "#   sent_dict[word] = 0\n",
    "\n",
    "# pos_words = read_in_txt(\"movie_reviews/posWords.txt\")\n",
    "# for word in pos_words:\n",
    "#   sent_dict[word] = 1\n",
    "\n",
    "# for i in range(len(X_train_words)):\n",
    "#   X_train.append([])\n",
    "\n",
    "#   for j in range(len(X_train_words[i])):\n",
    "#     word = X_train_words[i][j]\n",
    "#     if word in sent_dict:\n",
    "#       X_train[i].append(sent_dict[word])\n",
    "#     else: \n",
    "#       X_train[i].append(0)\n",
    "\n",
    "\n",
    "# for i in range(len(X_test_words)):\n",
    "#   X_test.append([])\n",
    "\n",
    "#   for j in range(len(X_test_words[i])):\n",
    "#     word = X_test_words[i][j]\n",
    "#     if word in sent_dict:\n",
    "#       X_test[i].append(sent_dict[word])\n",
    "#     else: \n",
    "#       X_test[i].append(0)"
   ]
  },
  {
   "attachments": {},
   "cell_type": "markdown",
   "metadata": {},
   "source": [
    "## Training\n",
    "Train the model using the bags of positive and negative words\n",
    "\n",
    "*NOTE: take roughly 6m 30s to train*"
   ]
  },
  {
   "cell_type": "code",
   "execution_count": 20,
   "metadata": {},
   "outputs": [],
   "source": [
    "priors, likelihoods = classifier.train_naive_bayes(pos_words, neg_words)\n"
   ]
  },
  {
   "attachments": {},
   "cell_type": "markdown",
   "metadata": {},
   "source": [
    "## Testing \n",
    "Using the test phrases and the results from the training function above generate predictions."
   ]
  },
  {
   "cell_type": "code",
   "execution_count": null,
   "metadata": {},
   "outputs": [
    {
     "name": "stdout",
     "output_type": "stream",
     "text": [
      "[0, 1, 1, 0, 0, 1, 0, 0, 0, 0, 1, 0, 0, 1, 0, 0, 1, 1, 1, 0, 0, 1, 1, 0, 0, 0, 1, 0, 1, 0, 0, 1, 1, 0, 0, 1, 0, 0, 0, 1, 1, 1, 1, 1, 0, 1, 0, 1, 1, 0, 0, 1, 1, 0, 0, 0, 0, 1, 0, 1, 1, 0, 0, 0, 1, 0, 0, 1, 0, 1, 0, 0, 0, 1, 0, 1, 1, 0, 0, 0, 1, 1, 0, 0, 0, 1, 1, 0, 1, 0, 1, 0, 0, 1, 1, 1, 1, 0, 0, 0, 0, 0, 0, 0, 0, 0, 0, 1, 0, 0, 0, 0, 0, 0, 0, 0, 0, 0, 0, 1, 0, 0, 0, 0, 0, 0, 0, 1, 0, 0, 0, 0, 0, 0, 0, 0, 0, 0, 0, 0, 0, 0, 0, 0, 0, 0, 0, 0, 1, 0, 1, 0, 0, 0, 0, 0, 0, 0, 0, 0, 0, 0, 0, 1, 0, 0, 0, 0, 0, 0, 0, 0, 0, 0, 0, 0, 0, 0, 0, 0, 0, 0, 0, 0, 0, 0, 0, 0, 0, 0, 0, 1, 0, 0, 0, 0, 0, 0, 0, 0]\n"
     ]
    }
   ],
   "source": [
    "predicted = classifier.predict_naive_bayes(priors, likelihoods, test_words)"
   ]
  },
  {
   "attachments": {},
   "cell_type": "markdown",
   "metadata": {},
   "source": [
    "## Evalution of Results\n",
    "The confusion matrix below displays the results from our classifier"
   ]
  },
  {
   "cell_type": "code",
   "execution_count": null,
   "metadata": {},
   "outputs": [
    {
     "name": "stdout",
     "output_type": "stream",
     "text": [
      "True Positives: 93\n",
      "False Positives: 7\n",
      "False Negatives: 56\n",
      "True Negatives: 44\n"
     ]
    }
   ],
   "source": [
    "matrix = evaluation.confusion_matrix(y_test, predicted, [0, 1])\n",
    "\n",
    "positives = matrix[0]\n",
    "negatives = matrix[1]\n",
    "\n",
    "print(\"True Positives:\", positives[0])\n",
    "print(\"False Positives:\", positives[1])\n",
    "print(\"False Negatives:\", negatives[0])\n",
    "print(\"True Negatives:\", negatives[1])"
   ]
  }
 ],
 "metadata": {
  "kernelspec": {
   "display_name": "Python 3",
   "language": "python",
   "name": "python3"
  },
  "language_info": {
   "codemirror_mode": {
    "name": "ipython",
    "version": 3
   },
   "file_extension": ".py",
   "mimetype": "text/x-python",
   "name": "python",
   "nbconvert_exporter": "python",
   "pygments_lexer": "ipython3",
   "version": "3.8.10"
  },
  "orig_nbformat": 4,
  "vscode": {
   "interpreter": {
    "hash": "916dbcbb3f70747c44a77c7bcd40155683ae19c65e1c03b4aa3499c5328201f1"
   }
  }
 },
 "nbformat": 4,
 "nbformat_minor": 2
}
