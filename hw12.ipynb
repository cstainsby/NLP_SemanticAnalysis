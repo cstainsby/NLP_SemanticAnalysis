{
 "cells": [
  {
   "cell_type": "code",
   "execution_count": 9,
   "metadata": {},
   "outputs": [],
   "source": [
    "import os \n",
    "\n",
    "import classifier\n",
    "from classifier import NaiveBayesClassifier\n",
    "\n",
    "import utils \n",
    "\n",
    "import evaluation\n",
    "\n"
   ]
  },
  {
   "cell_type": "code",
   "execution_count": 10,
   "metadata": {},
   "outputs": [],
   "source": [
    "pos_reviews = None \n",
    "neg_reviews = None \n",
    "\n",
    "with open(\"movie_reviews/pos.txt\") as pos_rev_file:\n",
    "  pos_reviews_str = pos_rev_file.read()\n",
    "\n",
    "  pos_reviews = pos_reviews_str.split(\"\\n\")\n",
    "\n",
    "\n",
    "with open(\"movie_reviews/neg.txt\") as neg_rev_file:\n",
    "  neg_reviews_str = neg_rev_file.read()\n",
    "\n",
    "  neg_reviews = neg_reviews_str.split(\"\\n\")\n",
    "\n",
    "X = pos_reviews + neg_reviews\n",
    "y = [1 for i in range(len(pos_reviews))] + [0 for i in range(len(neg_reviews))]\n"
   ]
  },
  {
   "cell_type": "code",
   "execution_count": 11,
   "metadata": {},
   "outputs": [],
   "source": [
    "X_train, X_test, y_train, y_test = evaluation.train_test_split(X, y)"
   ]
  },
  {
   "cell_type": "code",
   "execution_count": 12,
   "metadata": {},
   "outputs": [
    {
     "ename": "IndexError",
     "evalue": "string index out of range",
     "output_type": "error",
     "traceback": [
      "\u001b[0;31m---------------------------------------------------------------------------\u001b[0m",
      "\u001b[0;31mIndexError\u001b[0m                                Traceback (most recent call last)",
      "Cell \u001b[0;32mIn[12], line 2\u001b[0m\n\u001b[1;32m      1\u001b[0m bayes_clf \u001b[39m=\u001b[39m NaiveBayesClassifier()\n\u001b[0;32m----> 2\u001b[0m bayes_clf\u001b[39m.\u001b[39;49mfit(X_train, y_train)\n\u001b[1;32m      3\u001b[0m predictions \u001b[39m=\u001b[39m bayes_clf\u001b[39m.\u001b[39mpredict(X_test)\n",
      "File \u001b[0;32m~/class/NLP/CPSC475/homework/hw12/classifier.py:69\u001b[0m, in \u001b[0;36mNaiveBayesClassifier.fit\u001b[0;34m(self, X_train, y_train)\u001b[0m\n\u001b[1;32m     67\u001b[0m column \u001b[39m=\u001b[39m []\n\u001b[1;32m     68\u001b[0m \u001b[39mfor\u001b[39;00m row_index \u001b[39min\u001b[39;00m \u001b[39mrange\u001b[39m(\u001b[39mlen\u001b[39m(X_train)):\n\u001b[0;32m---> 69\u001b[0m     column\u001b[39m.\u001b[39mappend(X_train[row_index][col_index])\n\u001b[1;32m     70\u001b[0m item_label_list, parallel_frequency_list \u001b[39m=\u001b[39m utils\u001b[39m.\u001b[39mfind_frequency_of_each_element_in_list(column)\n\u001b[1;32m     71\u001b[0m \u001b[39mfor\u001b[39;00m item \u001b[39min\u001b[39;00m item_label_list:\n",
      "\u001b[0;31mIndexError\u001b[0m: string index out of range"
     ]
    }
   ],
   "source": [
    "bayes_clf = NaiveBayesClassifier()\n",
    "bayes_clf.fit(X_train, y_train)\n",
    "predictions = bayes_clf.predict(X_test)\n",
    "\n"
   ]
  }
 ],
 "metadata": {
  "kernelspec": {
   "display_name": "Python 3",
   "language": "python",
   "name": "python3"
  },
  "language_info": {
   "codemirror_mode": {
    "name": "ipython",
    "version": 3
   },
   "file_extension": ".py",
   "mimetype": "text/x-python",
   "name": "python",
   "nbconvert_exporter": "python",
   "pygments_lexer": "ipython3",
   "version": "3.8.10"
  },
  "orig_nbformat": 4,
  "vscode": {
   "interpreter": {
    "hash": "916dbcbb3f70747c44a77c7bcd40155683ae19c65e1c03b4aa3499c5328201f1"
   }
  }
 },
 "nbformat": 4,
 "nbformat_minor": 2
}
