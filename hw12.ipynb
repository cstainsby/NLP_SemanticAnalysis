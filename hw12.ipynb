{
 "cells": [
  {
   "cell_type": "code",
   "execution_count": 1,
   "metadata": {},
   "outputs": [
    {
     "data": {
      "text/plain": [
       "<module 'evaluation' from '/home/cstainsby/class/NLP/CPSC475/homework/hw12/evaluation.py'>"
      ]
     },
     "execution_count": 1,
     "metadata": {},
     "output_type": "execute_result"
    }
   ],
   "source": [
    "import importlib\n",
    "\n",
    "import os \n",
    "from nltk.corpus import movie_reviews\n",
    "import random \n",
    "\n",
    "import utils \n",
    "import evaluation\n",
    "\n",
    "importlib.reload(evaluation)"
   ]
  },
  {
   "attachments": {},
   "cell_type": "markdown",
   "metadata": {},
   "source": [
    "## Load Data\n",
    "\n",
    "Below is a helper function to read in file and separate the words into a list"
   ]
  },
  {
   "cell_type": "code",
   "execution_count": 2,
   "metadata": {},
   "outputs": [],
   "source": [
    "def read_in_txt(fname):\n",
    "  with open(fname) as in_file:\n",
    "    in_file_str = in_file.read()\n",
    "    file_contents = in_file_str.split(\"\\n\")\n",
    "\n",
    "  return file_contents"
   ]
  },
  {
   "attachments": {},
   "cell_type": "markdown",
   "metadata": {},
   "source": [
    "### Training Data"
   ]
  },
  {
   "cell_type": "code",
   "execution_count": 3,
   "metadata": {},
   "outputs": [
    {
     "name": "stdout",
     "output_type": "stream",
     "text": [
      "num negative words: 296450\n",
      "num positive words: 333400\n"
     ]
    }
   ],
   "source": [
    "neg_words = read_in_txt(\"movie_reviews/negWords.txt\")\n",
    "pos_words = read_in_txt(\"movie_reviews/posWords.txt\")\n",
    "\n",
    "print(\"num negative words:\", len(neg_words))\n",
    "print(\"num positive words:\", len(pos_words))"
   ]
  },
  {
   "attachments": {},
   "cell_type": "markdown",
   "metadata": {},
   "source": [
    "### Testing Data"
   ]
  },
  {
   "cell_type": "code",
   "execution_count": 4,
   "metadata": {},
   "outputs": [],
   "source": [
    "\n",
    "pos_test_files = read_in_txt(\"movie_reviews/posTst.txt\")\n",
    "neg_test_files = read_in_txt(\"movie_reviews/negTst.txt\")\n",
    "\n",
    "pos_test = [movie_reviews.words(fname) for fname in pos_test_files]\n",
    "neg_test = [movie_reviews.words(fname) for fname in neg_test_files]\n",
    "\n",
    "test_words = pos_test + neg_test\n",
    "\n",
    "y_test = [1 for i in range(len(pos_test))] + [0 for i in range(len(neg_test))]"
   ]
  },
  {
   "attachments": {},
   "cell_type": "markdown",
   "metadata": {},
   "source": [
    "## Training\n",
    "Train the model using the bags of positive and negative words"
   ]
  },
  {
   "cell_type": "code",
   "execution_count": 5,
   "metadata": {},
   "outputs": [],
   "source": [
    "def train_naive_bayes(bag_of_words_pos, bag_of_words_neg):\n",
    "  \"\"\"trains the data by calculating priors and likelhoods \n",
    "        Args:\n",
    "            bag_of_words_pos(list): list of positive words\n",
    "            bag_of_words_neg(list): list of negative words\n",
    "        Returns:\n",
    "            priors(dict): dictionary of priors\n",
    "            likelihoods(nested dict): nested dictionary of likelihoods\n",
    "    \"\"\"\n",
    "  priors = {\n",
    "    0: 0.5,\n",
    "    1: 0.5\n",
    "  }\n",
    "\n",
    "  likelihoods = {}\n",
    "\n",
    "  # adding in likelihoods for positive words\n",
    "  unique_words = list(set(bag_of_words_pos))\n",
    "  for unique_word in unique_words:\n",
    "    likelihoods[unique_word] = {}\n",
    "\n",
    "     # calculating likelihood percentage for negative word\n",
    "    count_of_unique_word = bag_of_words_pos.count(unique_word)\n",
    "    likelihoods[unique_word][1] = count_of_unique_word / len(bag_of_words_pos)\n",
    "  \n",
    "  # adding in likelihoods for negative words\n",
    "  unique_words = list(set(bag_of_words_neg))\n",
    "  for unique_word in unique_words:\n",
    "    \n",
    "    # word was not positive\n",
    "    if unique_word not in likelihoods:\n",
    "      likelihoods[unique_word] = {}\n",
    "    \n",
    "    # calculating likelihood percentage for negative word\n",
    "    count_of_unique_word = bag_of_words_neg.count(unique_word)\n",
    "    likelihoods[unique_word][0] = count_of_unique_word / len(bag_of_words_neg)\n",
    "\n",
    "  # likelihood example: {time: {0: 0.02} {1: 0.03}}\n",
    "  return priors, likelihoods"
   ]
  },
  {
   "cell_type": "code",
   "execution_count": 6,
   "metadata": {},
   "outputs": [],
   "source": [
    "priors, likelihoods = train_naive_bayes(pos_words, neg_words)"
   ]
  },
  {
   "attachments": {},
   "cell_type": "markdown",
   "metadata": {},
   "source": [
    "## Testing \n",
    "Using the test phrases and the results from the training function above generate predictions."
   ]
  },
  {
   "cell_type": "code",
   "execution_count": 7,
   "metadata": {},
   "outputs": [],
   "source": [
    "def predict_naive_bayes(priors, likelihoods, test):\n",
    "  predictions = []\n",
    "\n",
    "  class_labels = list(priors.keys())\n",
    "  for test_item in test:\n",
    "    \n",
    "    sum = [0 for i in range(len(priors))]\n",
    "    for i, class_label in enumerate(class_labels):\n",
    "      sum[i] = priors[class_label]\n",
    "      for word in test_item:\n",
    "        if word in likelihoods: \n",
    "          if class_label in likelihoods[word]:\n",
    "              sum[class_label] += likelihoods[word][class_label]\n",
    "\n",
    "    predictions.append(sum.index(max(sum)))\n",
    "          \n",
    "  return predictions"
   ]
  },
  {
   "cell_type": "code",
   "execution_count": 8,
   "metadata": {},
   "outputs": [],
   "source": [
    "predicted = predict_naive_bayes(priors, likelihoods, test_words)"
   ]
  },
  {
   "attachments": {},
   "cell_type": "markdown",
   "metadata": {},
   "source": [
    "## Evalution of Results\n",
    "The confusion matrix below displays the results from our classifier"
   ]
  },
  {
   "cell_type": "code",
   "execution_count": 9,
   "metadata": {},
   "outputs": [
    {
     "name": "stdout",
     "output_type": "stream",
     "text": [
      "True Positives: 93\n",
      "False Positives: 7\n",
      "False Negatives: 56\n",
      "True Negatives: 44\n"
     ]
    }
   ],
   "source": [
    "matrix = evaluation.confusion_matrix(y_test, predicted, [0, 1])\n",
    "\n",
    "positives = matrix[0]\n",
    "negatives = matrix[1]\n",
    "\n",
    "print(\"True Positives:\", positives[0])\n",
    "print(\"False Positives:\", positives[1])\n",
    "print(\"False Negatives:\", negatives[0])\n",
    "print(\"True Negatives:\", negatives[1])"
   ]
  }
 ],
 "metadata": {
  "kernelspec": {
   "display_name": "Python 3",
   "language": "python",
   "name": "python3"
  },
  "language_info": {
   "codemirror_mode": {
    "name": "ipython",
    "version": 3
   },
   "file_extension": ".py",
   "mimetype": "text/x-python",
   "name": "python",
   "nbconvert_exporter": "python",
   "pygments_lexer": "ipython3",
   "version": "3.8.10"
  },
  "orig_nbformat": 4,
  "vscode": {
   "interpreter": {
    "hash": "916dbcbb3f70747c44a77c7bcd40155683ae19c65e1c03b4aa3499c5328201f1"
   }
  }
 },
 "nbformat": 4,
 "nbformat_minor": 2
}
